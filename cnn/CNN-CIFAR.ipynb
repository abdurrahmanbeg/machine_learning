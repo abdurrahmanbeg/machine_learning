{
 "cells": [
  {
   "cell_type": "markdown",
   "metadata": {},
   "source": [
    "# CNN-based image classification on CIFAR-100 dataset"
   ]
  },
  {
   "cell_type": "markdown",
   "metadata": {},
   "source": [
    "The CIFAR-10 dataset consists of 60000 32x32 colour images in 10 classes, with 6000 images per class. There are 50000 training images and 10000 test images. See more info at the CIFAR homepage (https://www.cs.toronto.edu/~kriz/cifar.html).\n",
    "\n",
    "The dataset is available through most of the deep-learnign frameworks like: Keras (https://keras.io/api/datasets/cifar10/), Pytorch (https://pytorch.org/vision/0.8/datasets.html#cifar)"
   ]
  },
  {
   "cell_type": "markdown",
   "metadata": {},
   "source": [
    "You need to:\n",
    "    1. Peform 10-class classification using CNNs\n",
    "    2. Report the results in terms of accuracy and other useful metrics\n",
    "    3. Please make sure to assign 20% of the training set to be validation set for hyper-parameter tuning. \n",
    "    4. Use random seed '777' whereever needed (like taking out 20% data from training set as validation set) for reproducability."
   ]
  },
  {
   "cell_type": "code",
   "execution_count": 1,
   "metadata": {},
   "outputs": [],
   "source": [
    "import tensorflow as tf\n",
    "import tensorflow.keras as keras\n"
   ]
  },
  {
   "cell_type": "code",
   "execution_count": 2,
   "metadata": {},
   "outputs": [],
   "source": [
    "from tensorflow.keras.datasets import cifar10\n",
    "(train_images, train_labels), (test_images, test_labels) = cifar10.load_data()\n"
   ]
  },
  {
   "cell_type": "code",
   "execution_count": 3,
   "metadata": {},
   "outputs": [
    {
     "data": {
      "text/plain": [
       "(10000, 32, 32, 3)"
      ]
     },
     "execution_count": 3,
     "metadata": {},
     "output_type": "execute_result"
    }
   ],
   "source": [
    "test_images.shape"
   ]
  },
  {
   "cell_type": "code",
   "execution_count": 4,
   "metadata": {},
   "outputs": [],
   "source": [
    "train_images = train_images.reshape((50000, 32, 32, 3))\n",
    "train_images = train_images.astype('float32') / 255\n",
    "test_images = test_images.reshape((10000, 32, 32, 3))\n",
    "test_images = test_images.astype('float32') / 255"
   ]
  },
  {
   "cell_type": "code",
   "execution_count": 15,
   "metadata": {},
   "outputs": [],
   "source": [
    "from tensorflow.keras import layers\n",
    "inputs = keras.Input(shape=(32,32,3))\n",
    "x = layers.Conv2D(filters=32, kernel_size=3, activation='relu')(inputs)\n",
    "x = layers.Conv2D(filters=32, kernel_size=3, activation='relu')(x)\n",
    "x = layers.MaxPooling2D(pool_size=2)(x)\n",
    "x = layers.Conv2D(filters=64, kernel_size=3, activation='relu')(x)\n",
    "x = layers.Conv2D(filters=64, kernel_size=3, activation='relu')(x)\n",
    "x = layers.MaxPooling2D(pool_size=2)(x)\n",
    "x = layers.Conv2D(filters=128, kernel_size=3, activation='relu')(x)\n",
    "\n",
    "x = layers.Flatten()(x)\n",
    "outputs = layers.Dense(10, activation='softmax')(x)\n",
    "model = keras.Model(inputs = inputs, outputs = outputs)"
   ]
  },
  {
   "cell_type": "code",
   "execution_count": 16,
   "metadata": {},
   "outputs": [
    {
     "name": "stdout",
     "output_type": "stream",
     "text": [
      "Model: \"model_1\"\n",
      "_________________________________________________________________\n",
      "Layer (type)                 Output Shape              Param #   \n",
      "=================================================================\n",
      "input_2 (InputLayer)         [(None, 32, 32, 3)]       0         \n",
      "_________________________________________________________________\n",
      "conv2d_3 (Conv2D)            (None, 30, 30, 32)        896       \n",
      "_________________________________________________________________\n",
      "conv2d_4 (Conv2D)            (None, 28, 28, 32)        9248      \n",
      "_________________________________________________________________\n",
      "max_pooling2d_2 (MaxPooling2 (None, 14, 14, 32)        0         \n",
      "_________________________________________________________________\n",
      "conv2d_5 (Conv2D)            (None, 12, 12, 64)        18496     \n",
      "_________________________________________________________________\n",
      "conv2d_6 (Conv2D)            (None, 10, 10, 64)        36928     \n",
      "_________________________________________________________________\n",
      "max_pooling2d_3 (MaxPooling2 (None, 5, 5, 64)          0         \n",
      "_________________________________________________________________\n",
      "conv2d_7 (Conv2D)            (None, 3, 3, 128)         73856     \n",
      "_________________________________________________________________\n",
      "flatten_1 (Flatten)          (None, 1152)              0         \n",
      "_________________________________________________________________\n",
      "dense_1 (Dense)              (None, 10)                11530     \n",
      "=================================================================\n",
      "Total params: 150,954\n",
      "Trainable params: 150,954\n",
      "Non-trainable params: 0\n",
      "_________________________________________________________________\n"
     ]
    }
   ],
   "source": [
    "model.summary()\n",
    "\n",
    "model.compile(\n",
    "    loss = 'sparse_categorical_crossentropy',\n",
    "    optimizer='rmsprop', \n",
    "    metrics=['accuracy']  \n",
    ")\n"
   ]
  },
  {
   "cell_type": "code",
   "execution_count": 17,
   "metadata": {},
   "outputs": [],
   "source": [
    "callbacks = [keras.callbacks.ModelCheckpoint(\n",
    "            filepath = 'convnet_from_scratch.keras',\n",
    "            save_best_only = True,\n",
    "            monitor = 'val_loss')\n",
    "            ]"
   ]
  },
  {
   "cell_type": "code",
   "execution_count": 18,
   "metadata": {},
   "outputs": [
    {
     "name": "stdout",
     "output_type": "stream",
     "text": [
      "Epoch 1/20\n",
      "625/625 [==============================] - 160s 246ms/step - loss: 1.9252 - accuracy: 0.2854 - val_loss: 1.4853 - val_accuracy: 0.4774\n",
      "Epoch 2/20\n",
      "625/625 [==============================] - 148s 237ms/step - loss: 1.3609 - accuracy: 0.5121 - val_loss: 1.2187 - val_accuracy: 0.5717\n",
      "Epoch 3/20\n",
      "625/625 [==============================] - 149s 238ms/step - loss: 1.1336 - accuracy: 0.6026 - val_loss: 1.0244 - val_accuracy: 0.6347\n",
      "Epoch 4/20\n",
      "625/625 [==============================] - 148s 237ms/step - loss: 0.9925 - accuracy: 0.6513 - val_loss: 0.9993 - val_accuracy: 0.6585\n",
      "Epoch 5/20\n",
      "625/625 [==============================] - 149s 238ms/step - loss: 0.8688 - accuracy: 0.6943 - val_loss: 0.9144 - val_accuracy: 0.6809\n",
      "Epoch 6/20\n",
      "625/625 [==============================] - 148s 236ms/step - loss: 0.7600 - accuracy: 0.7342 - val_loss: 0.8442 - val_accuracy: 0.7082\n",
      "Epoch 7/20\n",
      "625/625 [==============================] - 148s 237ms/step - loss: 0.6753 - accuracy: 0.7640 - val_loss: 0.7532 - val_accuracy: 0.7408\n",
      "Epoch 8/20\n",
      "625/625 [==============================] - 149s 238ms/step - loss: 0.5996 - accuracy: 0.7908 - val_loss: 0.8336 - val_accuracy: 0.7277\n",
      "Epoch 9/20\n",
      "625/625 [==============================] - 156s 249ms/step - loss: 0.5337 - accuracy: 0.8161 - val_loss: 0.7482 - val_accuracy: 0.7460\n",
      "Epoch 10/20\n",
      "625/625 [==============================] - 164s 263ms/step - loss: 0.4768 - accuracy: 0.8353 - val_loss: 0.7961 - val_accuracy: 0.7433\n",
      "Epoch 11/20\n",
      "625/625 [==============================] - 157s 251ms/step - loss: 0.4209 - accuracy: 0.8548 - val_loss: 0.7954 - val_accuracy: 0.7577\n",
      "Epoch 12/20\n",
      "625/625 [==============================] - 159s 254ms/step - loss: 0.3787 - accuracy: 0.8680 - val_loss: 0.8314 - val_accuracy: 0.7501\n",
      "Epoch 13/20\n",
      "625/625 [==============================] - 162s 259ms/step - loss: 0.3287 - accuracy: 0.8846 - val_loss: 1.0213 - val_accuracy: 0.7288\n",
      "Epoch 14/20\n",
      "625/625 [==============================] - 158s 254ms/step - loss: 0.2931 - accuracy: 0.8968 - val_loss: 0.9129 - val_accuracy: 0.7498\n",
      "Epoch 15/20\n",
      "625/625 [==============================] - 160s 256ms/step - loss: 0.2450 - accuracy: 0.9153 - val_loss: 1.0337 - val_accuracy: 0.7480\n",
      "Epoch 16/20\n",
      "625/625 [==============================] - 158s 253ms/step - loss: 0.2165 - accuracy: 0.9256 - val_loss: 1.0768 - val_accuracy: 0.7435\n",
      "Epoch 17/20\n",
      "625/625 [==============================] - 156s 249ms/step - loss: 0.1963 - accuracy: 0.9329 - val_loss: 1.2880 - val_accuracy: 0.7224\n",
      "Epoch 18/20\n",
      "625/625 [==============================] - 159s 254ms/step - loss: 0.1712 - accuracy: 0.9406 - val_loss: 1.2933 - val_accuracy: 0.7366\n",
      "Epoch 19/20\n",
      "625/625 [==============================] - 162s 259ms/step - loss: 0.1593 - accuracy: 0.9458 - val_loss: 1.4048 - val_accuracy: 0.7377\n",
      "Epoch 20/20\n",
      "625/625 [==============================] - 155s 248ms/step - loss: 0.1519 - accuracy: 0.9475 - val_loss: 1.4418 - val_accuracy: 0.7316\n"
     ]
    }
   ],
   "source": [
    "history = model.fit(train_images, train_labels, \n",
    "                    epochs=20, batch_size = 64, \n",
    "                    callbacks=callbacks, validation_split = 0.2)"
   ]
  },
  {
   "cell_type": "code",
   "execution_count": 19,
   "metadata": {},
   "outputs": [
    {
     "name": "stdout",
     "output_type": "stream",
     "text": [
      "313/313 [==============================] - 10s 33ms/step - loss: 1.5501 - accuracy: 0.7248\n"
     ]
    }
   ],
   "source": [
    "loss, accuracy = model.evaluate(test_images, test_labels)"
   ]
  },
  {
   "cell_type": "code",
   "execution_count": null,
   "metadata": {},
   "outputs": [],
   "source": []
  },
  {
   "cell_type": "code",
   "execution_count": 21,
   "metadata": {},
   "outputs": [
    {
     "data": {
      "text/plain": [
       "<Figure size 432x288 with 0 Axes>"
      ]
     },
     "execution_count": 21,
     "metadata": {},
     "output_type": "execute_result"
    },
    {
     "data": {
      "image/png": "[encoded data removed]",
      "text/plain": [
       "<Figure size 432x288 with 1 Axes>"
      ]
     },
     "metadata": {
      "needs_background": "light"
     },
     "output_type": "display_data"
    },
    {
     "data": {
      "image/png": "[encoded data removed]",
      "text/plain": [
       "<Figure size 432x288 with 1 Axes>"
      ]
     },
     "metadata": {
      "needs_background": "light"
     },
     "output_type": "display_data"
    },
    {
     "data": {
      "text/plain": [
       "<Figure size 432x288 with 0 Axes>"
      ]
     },
     "metadata": {},
     "output_type": "display_data"
    }
   ],
   "source": [
    "import matplotlib.pyplot as plt\n",
    "\n",
    "accuracy = history.history['accuracy']\n",
    "val_a = history.history['val_accuracy']\n",
    "loss = history.history['loss']\n",
    "val_loss = history.history['val_loss']\n",
    "epochs = range(1, len(accuracy) + 1)\n",
    "plt.plot(epochs, accuracy, label = \"Training accuracy\")\n",
    "plt.plot(epochs, val_a, label = \"Validation accuracy \")\n",
    "plt.legend()\n",
    "plt.figure()\n",
    "plt.plot(epochs, loss, label = \"Training loss\")\n",
    "plt.plot(epochs, val_a, label = \"Validation loss\")\n",
    "plt.legend()\n",
    "plt.figure()"
   ]
  },
  {
   "cell_type": "code",
   "execution_count": null,
   "metadata": {},
   "outputs": [],
   "source": []
  },
  {
   "cell_type": "code",
   "execution_count": null,
   "metadata": {},
   "outputs": [],
   "source": []
  },
  {
   "cell_type": "code",
   "execution_count": null,
   "metadata": {},
   "outputs": [],
   "source": []
  }
 ],
 "metadata": {
  "kernelspec": {
   "display_name": "test",
   "language": "python",
   "name": "test"
  },
  "language_info": {
   "codemirror_mode": {
    "name": "ipython",
    "version": 3
   },
   "file_extension": ".py",
   "mimetype": "text/x-python",
   "name": "python",
   "nbconvert_exporter": "python",
   "pygments_lexer": "ipython3",
   "version": "3.8.5"
  }
 },
 "nbformat": 4,
 "nbformat_minor": 4
}
